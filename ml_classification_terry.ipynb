{
 "cells": [
  {
   "cell_type": "markdown",
   "metadata": {},
   "source": [
    "# Midterm Project: Classification Analysis  \n",
    "  \n",
    "Author: Terry Konkin  \n",
    "Date: April 6, 2025  \n",
    "Objective: To analyze the Titanic dataset."
   ]
  },
  {
   "cell_type": "code",
   "execution_count": 2,
   "metadata": {},
   "outputs": [],
   "source": [
    "\n",
    "# all imports get moved to the top - import each only once\n",
    "import seaborn as sns\n",
    "import pandas as pd\n",
    "from pandas.plotting import scatter_matrix\n",
    "import matplotlib.pyplot as plt\n"
   ]
  },
  {
   "cell_type": "markdown",
   "metadata": {},
   "source": [
    "### Section 1. Import and Inspect the Data  "
   ]
  },
  {
   "cell_type": "markdown",
   "metadata": {},
   "source": [
    "1.1 Load the dataset and display the first 10 rows"
   ]
  },
  {
   "cell_type": "code",
   "execution_count": null,
   "metadata": {},
   "outputs": [],
   "source": [
    "# load the dataset\n",
    "titanic_train = pd.read_csv(\"data/train.csv\", sep=\";\")"
   ]
  },
  {
   "cell_type": "code",
   "execution_count": 5,
   "metadata": {},
   "outputs": [
    {
     "name": "stdout",
     "output_type": "stream",
     "text": [
      "  PassengerId,Survived,Pclass,Name,Sex,Age,SibSp,Parch,Ticket,Fare,Cabin,Embarked\n",
      "0  1,0,3,\"Braund, Mr. Owen Harris\",male,22,1,0,A/...                             \n",
      "1  2,1,1,\"Cumings, Mrs. John Bradley (Florence Br...                             \n",
      "2  3,1,3,\"Heikkinen, Miss. Laina\",female,26,0,0,S...                             \n",
      "3  4,1,1,\"Futrelle, Mrs. Jacques Heath (Lily May ...                             \n",
      "4  5,0,3,\"Allen, Mr. William Henry\",male,35,0,0,3...                             \n",
      "5  6,0,3,\"Moran, Mr. James\",male,,0,0,330877,8.45...                             \n",
      "6  7,0,1,\"McCarthy, Mr. Timothy J\",male,54,0,0,17...                             \n",
      "7  8,0,3,\"Palsson, Master. Gosta Leonard\",male,2,...                             \n",
      "8  9,1,3,\"Johnson, Mrs. Oscar W (Elisabeth Vilhel...                             \n",
      "9  10,1,2,\"Nasser, Mrs. Nicholas (Adele Achem)\",f...                             \n"
     ]
    }
   ],
   "source": [
    "# display the first 10 rows\n",
    "print(titanic_train.head(10))"
   ]
  },
  {
   "cell_type": "markdown",
   "metadata": {},
   "source": [
    "1.2 Check for missing values and display summary statistics"
   ]
  },
  {
   "cell_type": "code",
   "execution_count": 6,
   "metadata": {},
   "outputs": [
    {
     "data": {
      "text/plain": [
       "PassengerId,Survived,Pclass,Name,Sex,Age,SibSp,Parch,Ticket,Fare,Cabin,Embarked    0\n",
       "dtype: int64"
      ]
     },
     "execution_count": 6,
     "metadata": {},
     "output_type": "execute_result"
    }
   ],
   "source": [
    "# Check for missing values\n",
    "titanic_train.isnull().sum()"
   ]
  },
  {
   "cell_type": "code",
   "execution_count": 7,
   "metadata": {},
   "outputs": [
    {
     "name": "stdout",
     "output_type": "stream",
     "text": [
      "       PassengerId,Survived,Pclass,Name,Sex,Age,SibSp,Parch,Ticket,Fare,Cabin,Embarked\n",
      "count                                                 891                             \n",
      "unique                                                891                             \n",
      "top     891,0,3,\"Dooley, Mr. Patrick\",male,32,0,0,3703...                             \n",
      "freq                                                    1                             \n"
     ]
    }
   ],
   "source": [
    "# Display summary statistics\n",
    "print(titanic_train.describe())"
   ]
  },
  {
   "cell_type": "markdown",
   "metadata": {},
   "source": [
    "Reflection 1: What do you notice about the dataset?  Are there any issues?"
   ]
  }
 ],
 "metadata": {
  "kernelspec": {
   "display_name": ".venv",
   "language": "python",
   "name": "python3"
  },
  "language_info": {
   "codemirror_mode": {
    "name": "ipython",
    "version": 3
   },
   "file_extension": ".py",
   "mimetype": "text/x-python",
   "name": "python",
   "nbconvert_exporter": "python",
   "pygments_lexer": "ipython3",
   "version": "3.13.1"
  }
 },
 "nbformat": 4,
 "nbformat_minor": 2
}
